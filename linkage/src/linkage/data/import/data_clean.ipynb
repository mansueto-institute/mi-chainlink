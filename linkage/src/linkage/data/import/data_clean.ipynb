{
 "cells": [
  {
   "cell_type": "code",
   "execution_count": 1,
   "metadata": {},
   "outputs": [],
   "source": [
    "import pandas as pd"
   ]
  },
  {
   "cell_type": "code",
   "execution_count": 19,
   "metadata": {},
   "outputs": [],
   "source": [
    "corp = pd.read_parquet(\"corp_master_clnd.parquet\")\n",
    "llc = pd.read_parquet(\"LLC_master_clnd.parquet\")\n",
    "parcel = pd.read_parquet(\"parcel-addresses-foia-24-0230.parquet\")\n"
   ]
  },
  {
   "cell_type": "code",
   "execution_count": 20,
   "metadata": {},
   "outputs": [],
   "source": [
    "corp = corp[[\"file_num\",\"name_raw\"]]\n",
    "llc = llc[[\"file_num\",\"name_raw\",\"address\"]]\n",
    "parcel = parcel[[\"PIN\", \"Property Address\", \"Tax Payer Name_raw\"]]\n",
    "\n",
    "corp.sample(10000).to_parquet(\"corp_small.parquet\")\n",
    "llc.sample(10000).to_parquet(\"llc_small.parquet\")\n",
    "parcel.sample(10000).to_parquet(\"parcel_small.parquet\")\n"
   ]
  }
 ],
 "metadata": {
  "kernelspec": {
   "display_name": "Python 3 (ipykernel)",
   "language": "python",
   "name": "python3"
  },
  "language_info": {
   "codemirror_mode": {
    "name": "ipython",
    "version": 3
   },
   "file_extension": ".py",
   "mimetype": "text/x-python",
   "name": "python",
   "nbconvert_exporter": "python",
   "pygments_lexer": "ipython3",
   "version": "3.13.1"
  }
 },
 "nbformat": 4,
 "nbformat_minor": 4
}
